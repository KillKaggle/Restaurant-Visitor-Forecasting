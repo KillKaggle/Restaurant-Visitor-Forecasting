{
 "cells": [
  {
   "cell_type": "markdown",
   "metadata": {},
   "source": [
    "# knn解法注释"
   ]
  },
  {
   "cell_type": "markdown",
   "metadata": {},
   "source": [
    "## 一、把需要的库导入，设置图片外观"
   ]
  },
  {
   "cell_type": "code",
   "execution_count": 33,
   "metadata": {},
   "outputs": [],
   "source": [
    "import glob, re\n",
    "import numpy as np\n",
    "import pandas as pd\n",
    "from sklearn import * #有星号，以后就可以不写模块的名称了\n",
    "from datetime import datetime\n",
    "import matplotlib.pyplot as plt\n",
    "\n",
    "#外观设置\n",
    "plt.rcParams['font.sans-serif']=['SimHei'] #用来正常显示中文标签\n",
    "plt.style.use('ggplot')#可以作出ggplot风格的图片\n",
    "\n"
   ]
  },
  {
   "cell_type": "markdown",
   "metadata": {},
   "source": [
    "## 二、导入数据，检查数据"
   ]
  },
  {
   "cell_type": "code",
   "execution_count": null,
   "metadata": {},
   "outputs": [],
   "source": [
    "#为了后面的内容加载快，只处理10%的数据\n",
    "train = pd.read_csv('../input/train_10%.csv')\n",
    "test = pd.read_csv('../input/test.csv')\n",
    "#这是一个list，存储了除了前四列之外的所有列的名称。一共50个。因为这4列不应该是模型输入的数据。\n",
    "col = [c for c in train if c not in ['id', 'air_store_id', 'visit_date','visitors']]"
   ]
  },
  {
   "cell_type": "code",
   "execution_count": 7,
   "metadata": {
    "collapsed": true
   },
   "outputs": [
    {
     "data": {
      "text/html": [
       "<div>\n",
       "<style scoped>\n",
       "    .dataframe tbody tr th:only-of-type {\n",
       "        vertical-align: middle;\n",
       "    }\n",
       "\n",
       "    .dataframe tbody tr th {\n",
       "        vertical-align: top;\n",
       "    }\n",
       "\n",
       "    .dataframe thead th {\n",
       "        text-align: right;\n",
       "    }\n",
       "</style>\n",
       "<table border=\"1\" class=\"dataframe\">\n",
       "  <thead>\n",
       "    <tr style=\"text-align: right;\">\n",
       "      <th></th>\n",
       "      <th>air_store_id</th>\n",
       "      <th>visit_date</th>\n",
       "      <th>visitors</th>\n",
       "      <th>dow</th>\n",
       "      <th>year</th>\n",
       "      <th>month</th>\n",
       "      <th>day_of_week</th>\n",
       "      <th>holiday_flg</th>\n",
       "      <th>min_visitors</th>\n",
       "      <th>mean_visitors</th>\n",
       "      <th>...</th>\n",
       "      <th>rv2_y</th>\n",
       "      <th>id</th>\n",
       "      <th>total_reserv_sum</th>\n",
       "      <th>total_reserv_mean</th>\n",
       "      <th>total_reserv_dt_diff_mean</th>\n",
       "      <th>date_int</th>\n",
       "      <th>var_max_lat</th>\n",
       "      <th>var_max_long</th>\n",
       "      <th>lon_plus_lat</th>\n",
       "      <th>air_store_id2</th>\n",
       "    </tr>\n",
       "  </thead>\n",
       "  <tbody>\n",
       "    <tr>\n",
       "      <th>0</th>\n",
       "      <td>air_b8d9e1624baaadc2</td>\n",
       "      <td>2016-12-06</td>\n",
       "      <td>4</td>\n",
       "      <td>1</td>\n",
       "      <td>2016</td>\n",
       "      <td>12</td>\n",
       "      <td>5</td>\n",
       "      <td>0</td>\n",
       "      <td>1.0</td>\n",
       "      <td>5.514286</td>\n",
       "      <td>...</td>\n",
       "      <td>-1.0</td>\n",
       "      <td>air_b8d9e1624baaadc2_2016-12-06</td>\n",
       "      <td>-1.0</td>\n",
       "      <td>-1.0</td>\n",
       "      <td>-1.0</td>\n",
       "      <td>20161206</td>\n",
       "      <td>8.418431</td>\n",
       "      <td>4.575709</td>\n",
       "      <td>175.29989</td>\n",
       "      <td>600</td>\n",
       "    </tr>\n",
       "    <tr>\n",
       "      <th>1</th>\n",
       "      <td>air_b8d9e1624baaadc2</td>\n",
       "      <td>2016-12-10</td>\n",
       "      <td>12</td>\n",
       "      <td>5</td>\n",
       "      <td>2016</td>\n",
       "      <td>12</td>\n",
       "      <td>2</td>\n",
       "      <td>0</td>\n",
       "      <td>1.0</td>\n",
       "      <td>11.581395</td>\n",
       "      <td>...</td>\n",
       "      <td>-1.0</td>\n",
       "      <td>air_b8d9e1624baaadc2_2016-12-10</td>\n",
       "      <td>-1.0</td>\n",
       "      <td>-1.0</td>\n",
       "      <td>-1.0</td>\n",
       "      <td>20161210</td>\n",
       "      <td>8.418431</td>\n",
       "      <td>4.575709</td>\n",
       "      <td>175.29989</td>\n",
       "      <td>600</td>\n",
       "    </tr>\n",
       "    <tr>\n",
       "      <th>2</th>\n",
       "      <td>air_b8d9e1624baaadc2</td>\n",
       "      <td>2016-12-12</td>\n",
       "      <td>27</td>\n",
       "      <td>0</td>\n",
       "      <td>2016</td>\n",
       "      <td>12</td>\n",
       "      <td>1</td>\n",
       "      <td>0</td>\n",
       "      <td>2.0</td>\n",
       "      <td>6.333333</td>\n",
       "      <td>...</td>\n",
       "      <td>-1.0</td>\n",
       "      <td>air_b8d9e1624baaadc2_2016-12-12</td>\n",
       "      <td>-1.0</td>\n",
       "      <td>-1.0</td>\n",
       "      <td>-1.0</td>\n",
       "      <td>20161212</td>\n",
       "      <td>8.418431</td>\n",
       "      <td>4.575709</td>\n",
       "      <td>175.29989</td>\n",
       "      <td>600</td>\n",
       "    </tr>\n",
       "    <tr>\n",
       "      <th>3</th>\n",
       "      <td>air_b8d9e1624baaadc2</td>\n",
       "      <td>2016-12-13</td>\n",
       "      <td>1</td>\n",
       "      <td>1</td>\n",
       "      <td>2016</td>\n",
       "      <td>12</td>\n",
       "      <td>5</td>\n",
       "      <td>0</td>\n",
       "      <td>1.0</td>\n",
       "      <td>5.514286</td>\n",
       "      <td>...</td>\n",
       "      <td>-1.0</td>\n",
       "      <td>air_b8d9e1624baaadc2_2016-12-13</td>\n",
       "      <td>-1.0</td>\n",
       "      <td>-1.0</td>\n",
       "      <td>-1.0</td>\n",
       "      <td>20161213</td>\n",
       "      <td>8.418431</td>\n",
       "      <td>4.575709</td>\n",
       "      <td>175.29989</td>\n",
       "      <td>600</td>\n",
       "    </tr>\n",
       "    <tr>\n",
       "      <th>4</th>\n",
       "      <td>air_b8d9e1624baaadc2</td>\n",
       "      <td>2016-12-14</td>\n",
       "      <td>9</td>\n",
       "      <td>2</td>\n",
       "      <td>2016</td>\n",
       "      <td>12</td>\n",
       "      <td>6</td>\n",
       "      <td>0</td>\n",
       "      <td>2.0</td>\n",
       "      <td>7.025000</td>\n",
       "      <td>...</td>\n",
       "      <td>-1.0</td>\n",
       "      <td>air_b8d9e1624baaadc2_2016-12-14</td>\n",
       "      <td>-1.0</td>\n",
       "      <td>-1.0</td>\n",
       "      <td>-1.0</td>\n",
       "      <td>20161214</td>\n",
       "      <td>8.418431</td>\n",
       "      <td>4.575709</td>\n",
       "      <td>175.29989</td>\n",
       "      <td>600</td>\n",
       "    </tr>\n",
       "  </tbody>\n",
       "</table>\n",
       "<p>5 rows × 54 columns</p>\n",
       "</div>"
      ],
      "text/plain": [
       "           air_store_id  visit_date  visitors  dow  year  month  day_of_week  \\\n",
       "0  air_b8d9e1624baaadc2  2016-12-06         4    1  2016     12            5   \n",
       "1  air_b8d9e1624baaadc2  2016-12-10        12    5  2016     12            2   \n",
       "2  air_b8d9e1624baaadc2  2016-12-12        27    0  2016     12            1   \n",
       "3  air_b8d9e1624baaadc2  2016-12-13         1    1  2016     12            5   \n",
       "4  air_b8d9e1624baaadc2  2016-12-14         9    2  2016     12            6   \n",
       "\n",
       "   holiday_flg  min_visitors  mean_visitors      ...        rv2_y  \\\n",
       "0            0           1.0       5.514286      ...         -1.0   \n",
       "1            0           1.0      11.581395      ...         -1.0   \n",
       "2            0           2.0       6.333333      ...         -1.0   \n",
       "3            0           1.0       5.514286      ...         -1.0   \n",
       "4            0           2.0       7.025000      ...         -1.0   \n",
       "\n",
       "                                id  total_reserv_sum  total_reserv_mean  \\\n",
       "0  air_b8d9e1624baaadc2_2016-12-06              -1.0               -1.0   \n",
       "1  air_b8d9e1624baaadc2_2016-12-10              -1.0               -1.0   \n",
       "2  air_b8d9e1624baaadc2_2016-12-12              -1.0               -1.0   \n",
       "3  air_b8d9e1624baaadc2_2016-12-13              -1.0               -1.0   \n",
       "4  air_b8d9e1624baaadc2_2016-12-14              -1.0               -1.0   \n",
       "\n",
       "   total_reserv_dt_diff_mean  date_int  var_max_lat  var_max_long  \\\n",
       "0                       -1.0  20161206     8.418431      4.575709   \n",
       "1                       -1.0  20161210     8.418431      4.575709   \n",
       "2                       -1.0  20161212     8.418431      4.575709   \n",
       "3                       -1.0  20161213     8.418431      4.575709   \n",
       "4                       -1.0  20161214     8.418431      4.575709   \n",
       "\n",
       "   lon_plus_lat  air_store_id2  \n",
       "0     175.29989            600  \n",
       "1     175.29989            600  \n",
       "2     175.29989            600  \n",
       "3     175.29989            600  \n",
       "4     175.29989            600  \n",
       "\n",
       "[5 rows x 54 columns]"
      ]
     },
     "execution_count": 7,
     "metadata": {},
     "output_type": "execute_result"
    }
   ],
   "source": [
    "#先看看数据长什么样\n",
    "train.head()"
   ]
  },
  {
   "cell_type": "code",
   "execution_count": 36,
   "metadata": {
    "collapsed": true
   },
   "outputs": [
    {
     "data": {
      "text/html": [
       "<div>\n",
       "<style scoped>\n",
       "    .dataframe tbody tr th:only-of-type {\n",
       "        vertical-align: middle;\n",
       "    }\n",
       "\n",
       "    .dataframe tbody tr th {\n",
       "        vertical-align: top;\n",
       "    }\n",
       "\n",
       "    .dataframe thead th {\n",
       "        text-align: right;\n",
       "    }\n",
       "</style>\n",
       "<table border=\"1\" class=\"dataframe\">\n",
       "  <thead>\n",
       "    <tr style=\"text-align: right;\">\n",
       "      <th></th>\n",
       "      <th>id</th>\n",
       "      <th>visitors</th>\n",
       "      <th>visit_date</th>\n",
       "      <th>air_store_id</th>\n",
       "      <th>dow</th>\n",
       "      <th>year</th>\n",
       "      <th>month</th>\n",
       "      <th>day_of_week</th>\n",
       "      <th>holiday_flg</th>\n",
       "      <th>min_visitors</th>\n",
       "      <th>...</th>\n",
       "      <th>rs2_y</th>\n",
       "      <th>rv2_y</th>\n",
       "      <th>total_reserv_sum</th>\n",
       "      <th>total_reserv_mean</th>\n",
       "      <th>total_reserv_dt_diff_mean</th>\n",
       "      <th>date_int</th>\n",
       "      <th>var_max_lat</th>\n",
       "      <th>var_max_long</th>\n",
       "      <th>lon_plus_lat</th>\n",
       "      <th>air_store_id2</th>\n",
       "    </tr>\n",
       "  </thead>\n",
       "  <tbody>\n",
       "    <tr>\n",
       "      <th>0</th>\n",
       "      <td>air_00a91d42b08b08d9_2017-04-23</td>\n",
       "      <td>0</td>\n",
       "      <td>2017-04-23</td>\n",
       "      <td>air_00a91d42b08b08d9</td>\n",
       "      <td>6</td>\n",
       "      <td>2017</td>\n",
       "      <td>4</td>\n",
       "      <td>3</td>\n",
       "      <td>0</td>\n",
       "      <td>2.0</td>\n",
       "      <td>...</td>\n",
       "      <td>-1.0</td>\n",
       "      <td>-1.0</td>\n",
       "      <td>-1.0</td>\n",
       "      <td>-1.0</td>\n",
       "      <td>-1.0</td>\n",
       "      <td>20170423</td>\n",
       "      <td>8.326629</td>\n",
       "      <td>4.519803</td>\n",
       "      <td>175.447598</td>\n",
       "      <td>0</td>\n",
       "    </tr>\n",
       "    <tr>\n",
       "      <th>1</th>\n",
       "      <td>air_00a91d42b08b08d9_2017-04-24</td>\n",
       "      <td>0</td>\n",
       "      <td>2017-04-24</td>\n",
       "      <td>air_00a91d42b08b08d9</td>\n",
       "      <td>0</td>\n",
       "      <td>2017</td>\n",
       "      <td>4</td>\n",
       "      <td>1</td>\n",
       "      <td>0</td>\n",
       "      <td>1.0</td>\n",
       "      <td>...</td>\n",
       "      <td>-1.0</td>\n",
       "      <td>-1.0</td>\n",
       "      <td>-1.0</td>\n",
       "      <td>-1.0</td>\n",
       "      <td>-1.0</td>\n",
       "      <td>20170424</td>\n",
       "      <td>8.326629</td>\n",
       "      <td>4.519803</td>\n",
       "      <td>175.447598</td>\n",
       "      <td>0</td>\n",
       "    </tr>\n",
       "    <tr>\n",
       "      <th>2</th>\n",
       "      <td>air_00a91d42b08b08d9_2017-04-25</td>\n",
       "      <td>0</td>\n",
       "      <td>2017-04-25</td>\n",
       "      <td>air_00a91d42b08b08d9</td>\n",
       "      <td>1</td>\n",
       "      <td>2017</td>\n",
       "      <td>4</td>\n",
       "      <td>5</td>\n",
       "      <td>0</td>\n",
       "      <td>1.0</td>\n",
       "      <td>...</td>\n",
       "      <td>-1.0</td>\n",
       "      <td>-1.0</td>\n",
       "      <td>-1.0</td>\n",
       "      <td>-1.0</td>\n",
       "      <td>-1.0</td>\n",
       "      <td>20170425</td>\n",
       "      <td>8.326629</td>\n",
       "      <td>4.519803</td>\n",
       "      <td>175.447598</td>\n",
       "      <td>0</td>\n",
       "    </tr>\n",
       "    <tr>\n",
       "      <th>3</th>\n",
       "      <td>air_00a91d42b08b08d9_2017-04-26</td>\n",
       "      <td>0</td>\n",
       "      <td>2017-04-26</td>\n",
       "      <td>air_00a91d42b08b08d9</td>\n",
       "      <td>2</td>\n",
       "      <td>2017</td>\n",
       "      <td>4</td>\n",
       "      <td>6</td>\n",
       "      <td>0</td>\n",
       "      <td>15.0</td>\n",
       "      <td>...</td>\n",
       "      <td>-1.0</td>\n",
       "      <td>-1.0</td>\n",
       "      <td>-1.0</td>\n",
       "      <td>-1.0</td>\n",
       "      <td>-1.0</td>\n",
       "      <td>20170426</td>\n",
       "      <td>8.326629</td>\n",
       "      <td>4.519803</td>\n",
       "      <td>175.447598</td>\n",
       "      <td>0</td>\n",
       "    </tr>\n",
       "    <tr>\n",
       "      <th>4</th>\n",
       "      <td>air_00a91d42b08b08d9_2017-04-27</td>\n",
       "      <td>0</td>\n",
       "      <td>2017-04-27</td>\n",
       "      <td>air_00a91d42b08b08d9</td>\n",
       "      <td>3</td>\n",
       "      <td>2017</td>\n",
       "      <td>4</td>\n",
       "      <td>4</td>\n",
       "      <td>0</td>\n",
       "      <td>15.0</td>\n",
       "      <td>...</td>\n",
       "      <td>-1.0</td>\n",
       "      <td>-1.0</td>\n",
       "      <td>-1.0</td>\n",
       "      <td>-1.0</td>\n",
       "      <td>-1.0</td>\n",
       "      <td>20170427</td>\n",
       "      <td>8.326629</td>\n",
       "      <td>4.519803</td>\n",
       "      <td>175.447598</td>\n",
       "      <td>0</td>\n",
       "    </tr>\n",
       "  </tbody>\n",
       "</table>\n",
       "<p>5 rows × 54 columns</p>\n",
       "</div>"
      ],
      "text/plain": [
       "                                id  visitors  visit_date  \\\n",
       "0  air_00a91d42b08b08d9_2017-04-23         0  2017-04-23   \n",
       "1  air_00a91d42b08b08d9_2017-04-24         0  2017-04-24   \n",
       "2  air_00a91d42b08b08d9_2017-04-25         0  2017-04-25   \n",
       "3  air_00a91d42b08b08d9_2017-04-26         0  2017-04-26   \n",
       "4  air_00a91d42b08b08d9_2017-04-27         0  2017-04-27   \n",
       "\n",
       "           air_store_id  dow  year  month  day_of_week  holiday_flg  \\\n",
       "0  air_00a91d42b08b08d9    6  2017      4            3            0   \n",
       "1  air_00a91d42b08b08d9    0  2017      4            1            0   \n",
       "2  air_00a91d42b08b08d9    1  2017      4            5            0   \n",
       "3  air_00a91d42b08b08d9    2  2017      4            6            0   \n",
       "4  air_00a91d42b08b08d9    3  2017      4            4            0   \n",
       "\n",
       "   min_visitors      ...        rs2_y  rv2_y  total_reserv_sum  \\\n",
       "0           2.0      ...         -1.0   -1.0              -1.0   \n",
       "1           1.0      ...         -1.0   -1.0              -1.0   \n",
       "2           1.0      ...         -1.0   -1.0              -1.0   \n",
       "3          15.0      ...         -1.0   -1.0              -1.0   \n",
       "4          15.0      ...         -1.0   -1.0              -1.0   \n",
       "\n",
       "   total_reserv_mean  total_reserv_dt_diff_mean  date_int  var_max_lat  \\\n",
       "0               -1.0                       -1.0  20170423     8.326629   \n",
       "1               -1.0                       -1.0  20170424     8.326629   \n",
       "2               -1.0                       -1.0  20170425     8.326629   \n",
       "3               -1.0                       -1.0  20170426     8.326629   \n",
       "4               -1.0                       -1.0  20170427     8.326629   \n",
       "\n",
       "   var_max_long  lon_plus_lat  air_store_id2  \n",
       "0      4.519803    175.447598              0  \n",
       "1      4.519803    175.447598              0  \n",
       "2      4.519803    175.447598              0  \n",
       "3      4.519803    175.447598              0  \n",
       "4      4.519803    175.447598              0  \n",
       "\n",
       "[5 rows x 54 columns]"
      ]
     },
     "execution_count": 36,
     "metadata": {},
     "output_type": "execute_result"
    }
   ],
   "source": [
    "#test的区别只是visitors列是空的\n",
    "test.head()"
   ]
  },
  {
   "cell_type": "code",
   "execution_count": 8,
   "metadata": {
    "collapsed": true
   },
   "outputs": [
    {
     "data": {
      "text/plain": [
       "['dow',\n",
       " 'year',\n",
       " 'month',\n",
       " 'day_of_week',\n",
       " 'holiday_flg',\n",
       " 'min_visitors',\n",
       " 'mean_visitors',\n",
       " 'median_visitors',\n",
       " 'max_visitors',\n",
       " 'count_observations',\n",
       " 'air_genre_name',\n",
       " 'air_area_name',\n",
       " 'latitude',\n",
       " 'longitude',\n",
       " 'air_genre_name0',\n",
       " 'air_area_name0',\n",
       " 'air_genre_name1',\n",
       " 'air_area_name1',\n",
       " 'air_genre_name2',\n",
       " 'air_area_name2',\n",
       " 'air_genre_name3',\n",
       " 'air_area_name3',\n",
       " 'air_genre_name4',\n",
       " 'air_area_name4',\n",
       " 'air_genre_name5',\n",
       " 'air_area_name5',\n",
       " 'air_genre_name6',\n",
       " 'air_area_name6',\n",
       " 'air_genre_name7',\n",
       " 'air_area_name7',\n",
       " 'air_genre_name8',\n",
       " 'air_area_name8',\n",
       " 'air_genre_name9',\n",
       " 'air_area_name9',\n",
       " 'rs1_x',\n",
       " 'rv1_x',\n",
       " 'rs2_x',\n",
       " 'rv2_x',\n",
       " 'rs1_y',\n",
       " 'rv1_y',\n",
       " 'rs2_y',\n",
       " 'rv2_y',\n",
       " 'total_reserv_sum',\n",
       " 'total_reserv_mean',\n",
       " 'total_reserv_dt_diff_mean',\n",
       " 'date_int',\n",
       " 'var_max_lat',\n",
       " 'var_max_long',\n",
       " 'lon_plus_lat',\n",
       " 'air_store_id2']"
      ]
     },
     "execution_count": 8,
     "metadata": {},
     "output_type": "execute_result"
    }
   ],
   "source": [
    "#这是一个list，存储了除了前四列之外的所有列的名称。一共50个。因此这4列不应该是模型输入的数据。\n",
    "col"
   ]
  },
  {
   "cell_type": "code",
   "execution_count": 34,
   "metadata": {},
   "outputs": [
    {
     "data": {
      "text/plain": [
       "Text(0,0.5,'Frequency')"
      ]
     },
     "execution_count": 34,
     "metadata": {},
     "output_type": "execute_result"
    },
    {
     "data": {
      "image/png": "[encoded data removed]",
      "text/plain": [
       "<matplotlib.figure.Figure at 0x1a149e8b38>"
      ]
     },
     "metadata": {},
     "output_type": "display_data"
    }
   ],
   "source": [
    "#我们来看看visitor的分布\n",
    "#显然visitor具有长尾特征。使用log(1 + x)变换比较合适\n",
    "plt.hist(train['visitors'].values)\n",
    "plt.title(\"原始\")\n",
    "plt.xlabel(\"Value\")\n",
    "plt.ylabel(\"Frequency\")"
   ]
  },
  {
   "cell_type": "code",
   "execution_count": 35,
   "metadata": {},
   "outputs": [
    {
     "data": {
      "text/plain": [
       "Text(0,0.5,'Frequency')"
      ]
     },
     "execution_count": 35,
     "metadata": {},
     "output_type": "execute_result"
    },
    {
     "data": {
      "image/png": "[encoded data removed]",
      "text/plain": [
       "<matplotlib.figure.Figure at 0x1a14394eb8>"
      ]
     },
     "metadata": {},
     "output_type": "display_data"
    }
   ],
   "source": [
    "#再看看log1p操作后visitor的分布\n",
    "plt.hist(np.log1p(train['visitors'].values))\n",
    "plt.title(\"log1p之后\")\n",
    "plt.xlabel(\"Value\")\n",
    "plt.ylabel(\"Frequency\")"
   ]
  },
  {
   "cell_type": "markdown",
   "metadata": {},
   "source": [
    "## 三、模型验证训练集，调参，计算MSE"
   ]
  },
  {
   "cell_type": "code",
   "execution_count": 32,
   "metadata": {},
   "outputs": [],
   "source": [
    "#RMSLE方法调用了sk-learn的计算均方误差的方法，返回这个结果的0.5次方。\n",
    "#MSE定位为各数据偏离真实值的距离平方和的平均数\n",
    "#传入的参数：y是真实值，pred是估计值\n",
    "def RMSLE(y, pred):\n",
    "    return metrics.mean_squared_error(y, pred)**0.5 "
   ]
  },
  {
   "cell_type": "markdown",
   "metadata": {},
   "source": [
    "### 1. neighbors = 3\n",
    "3自然不错，1更好，MSE = 0，但是会导致严重的过拟合。knn中的neighbors不能选太小"
   ]
  },
  {
   "cell_type": "code",
   "execution_count": 47,
   "metadata": {},
   "outputs": [
    {
     "name": "stdout",
     "output_type": "stream",
     "text": [
      "RMSE:  0.41324308897126166\n"
     ]
    }
   ],
   "source": [
    "#看看neighbors=其他值的时候MSE是怎样的\n",
    "model = neighbors.KNeighborsRegressor(n_jobs=-1, n_neighbors=3)\n",
    "model.fit(train[col], np.log1p(train['visitors'].values))\n",
    "preds = model.predict(train[col])\n",
    "print('RMSE: ', RMSLE(np.log1p(train['visitors'].values), preds))"
   ]
  },
  {
   "cell_type": "markdown",
   "metadata": {},
   "source": [
    "### 2. neighbors = 4"
   ]
  },
  {
   "cell_type": "code",
   "execution_count": 49,
   "metadata": {},
   "outputs": [
    {
     "name": "stdout",
     "output_type": "stream",
     "text": [
      "RMSE:  0.4417667350800338\n"
     ]
    }
   ],
   "source": [
    "#调用sk-learn里的neighbors.KNeighborsRegressor方法\n",
    "#n_jobs表示并行运算的线程数。-1代表等于cpu的核数。与结果无关\n",
    "#计算最短距离的个数。默认是5 。这个值的选取比较关键。\n",
    "model = neighbors.KNeighborsRegressor(n_jobs=-1, n_neighbors=4)\n",
    "\n",
    "#fit(x,y)中，x是一个pandas表，排除前四列\n",
    "#y是一个array，存visitor值的\n",
    "model.fit(train[col], np.log1p(train['visitors'].values))\n",
    "\n",
    "#在predict方法中，把刚才的x=train[col]传进去，就返回刚才y的预测值啦\n",
    "preds = model.predict(train[col])\n",
    "\n",
    "#打印出均方误差的0.5次方\n",
    "#用来衡量模型预测的误差，越小越好啊\n",
    "print('RMSE: ', RMSLE(np.log1p(train['visitors'].values), preds))\n"
   ]
  },
  {
   "cell_type": "markdown",
   "metadata": {},
   "source": [
    "### 3. neighbors = 9"
   ]
  },
  {
   "cell_type": "code",
   "execution_count": 39,
   "metadata": {
    "scrolled": true
   },
   "outputs": [
    {
     "name": "stdout",
     "output_type": "stream",
     "text": [
      "RMSE:  0.4983974538596508\n"
     ]
    }
   ],
   "source": [
    "#看看neighbors=其他值的时候MSE是怎样的\n",
    "model = neighbors.KNeighborsRegressor(n_jobs=-1, n_neighbors=9)\n",
    "model.fit(train[col], np.log1p(train['visitors'].values))\n",
    "preds = model.predict(train[col])\n",
    "print('RMSE: ', RMSLE(np.log1p(train['visitors'].values), preds))"
   ]
  },
  {
   "cell_type": "markdown",
   "metadata": {},
   "source": [
    "neighbors增加时，训练集本身的MSE是递增的。\n",
    "我们暂时考虑使用4作为参数。\n",
    "下一步调整需要交叉验证。"
   ]
  },
  {
   "cell_type": "markdown",
   "metadata": {},
   "source": [
    "## 四、预测测试集"
   ]
  },
  {
   "cell_type": "code",
   "execution_count": null,
   "metadata": {},
   "outputs": [],
   "source": [
    "#给test表中的visitors列赋值 为模型预测的结果\n",
    "test['visitors'] = model.predict(test[col])\n",
    "#不过这个值还需要用expm函数把log1p的数变回去\n",
    "test['visitors'] = np.expm1(test['visitors']).clip(lower=0.)"
   ]
  },
  {
   "cell_type": "code",
   "execution_count": null,
   "metadata": {},
   "outputs": [],
   "source": [
    "#sub就是test只留下id和visitors列\n",
    "sub = test[['id','visitors']].copy()\n",
    "#把sub写入csv文件\n",
    "#这一步运行完，可以在当前目录看到结果生成\n",
    "sub[['id', 'visitors']].to_csv('submission_2.csv', index=False)"
   ]
  },
  {
   "cell_type": "code",
   "execution_count": 37,
   "metadata": {},
   "outputs": [
    {
     "data": {
      "text/html": [
       "<div>\n",
       "<style scoped>\n",
       "    .dataframe tbody tr th:only-of-type {\n",
       "        vertical-align: middle;\n",
       "    }\n",
       "\n",
       "    .dataframe tbody tr th {\n",
       "        vertical-align: top;\n",
       "    }\n",
       "\n",
       "    .dataframe thead th {\n",
       "        text-align: right;\n",
       "    }\n",
       "</style>\n",
       "<table border=\"1\" class=\"dataframe\">\n",
       "  <thead>\n",
       "    <tr style=\"text-align: right;\">\n",
       "      <th></th>\n",
       "      <th>visitors</th>\n",
       "    </tr>\n",
       "  </thead>\n",
       "  <tbody>\n",
       "    <tr>\n",
       "      <th>count</th>\n",
       "      <td>32019.000000</td>\n",
       "    </tr>\n",
       "    <tr>\n",
       "      <th>mean</th>\n",
       "      <td>18.761234</td>\n",
       "    </tr>\n",
       "    <tr>\n",
       "      <th>std</th>\n",
       "      <td>13.666703</td>\n",
       "    </tr>\n",
       "    <tr>\n",
       "      <th>min</th>\n",
       "      <td>1.000000</td>\n",
       "    </tr>\n",
       "    <tr>\n",
       "      <th>25%</th>\n",
       "      <td>8.641141</td>\n",
       "    </tr>\n",
       "    <tr>\n",
       "      <th>50%</th>\n",
       "      <td>15.100610</td>\n",
       "    </tr>\n",
       "    <tr>\n",
       "      <th>75%</th>\n",
       "      <td>25.441406</td>\n",
       "    </tr>\n",
       "    <tr>\n",
       "      <th>max</th>\n",
       "      <td>139.887341</td>\n",
       "    </tr>\n",
       "  </tbody>\n",
       "</table>\n",
       "</div>"
      ],
      "text/plain": [
       "           visitors\n",
       "count  32019.000000\n",
       "mean      18.761234\n",
       "std       13.666703\n",
       "min        1.000000\n",
       "25%        8.641141\n",
       "50%       15.100610\n",
       "75%       25.441406\n",
       "max      139.887341"
      ]
     },
     "execution_count": 37,
     "metadata": {},
     "output_type": "execute_result"
    }
   ],
   "source": [
    "#将结果读入\n",
    "result = pd.read_csv('submission_2.csv')\n",
    "#结果的大致描述\n",
    "result.describe()"
   ]
  },
  {
   "cell_type": "code",
   "execution_count": 8,
   "metadata": {},
   "outputs": [
    {
     "data": {
      "text/plain": [
       "(32019, 2)"
      ]
     },
     "execution_count": 8,
     "metadata": {},
     "output_type": "execute_result"
    }
   ],
   "source": [
    "result.shape"
   ]
  },
  {
   "cell_type": "code",
   "execution_count": null,
   "metadata": {},
   "outputs": [],
   "source": []
  }
 ],
 "metadata": {
  "kernelspec": {
   "display_name": "Python 3",
   "language": "python",
   "name": "python3"
  },
  "language_info": {
   "codemirror_mode": {
    "name": "ipython",
    "version": 3
   },
   "file_extension": ".py",
   "mimetype": "text/x-python",
   "name": "python",
   "nbconvert_exporter": "python",
   "pygments_lexer": "ipython3",
   "version": "3.6.4"
  }
 },
 "nbformat": 4,
 "nbformat_minor": 2
}
